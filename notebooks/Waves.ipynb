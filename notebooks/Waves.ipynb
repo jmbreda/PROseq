{
 "cells": [
  {
   "cell_type": "code",
   "execution_count": 2,
   "metadata": {},
   "outputs": [],
   "source": [
    "import numpy as np\n",
    "import pandas as pd\n",
    "import matplotlib.pyplot as plt\n",
    "import pyBigWig as bw\n",
    "import os"
   ]
  },
  {
   "cell_type": "code",
   "execution_count": 45,
   "metadata": {},
   "outputs": [
    {
     "name": "stdout",
     "output_type": "stream",
     "text": [
      "Clock\n",
      "Clock chr5 76357715 76452639 -\n",
      "0.9707049158608212\n",
      "1 0.121 0.104 0.847 1.136\n",
      "1 0.112 0.104 -0.528 1.734\n",
      "Per2\n",
      "Per2 chr1 91343704 91387046 -\n",
      "-0.35431174078743094\n",
      "1 0.517 0.493 1.246 2.571\n",
      "1 0.212 0.176 -0.474 0.81\n",
      "Myc\n",
      "Myc chr15 61857240 61862223 +\n",
      "-0.9259027485820506\n",
      "1 0.033 0.013 -0.162 1.978\n",
      "1 0.315 0.285 -1.302 0.501\n",
      "Gapdh\n",
      "Gapdh chr6 125138678 125143430 -\n",
      "2.1965580884986555\n",
      "1 1.112 0.73 -1.645 2.3\n",
      "1 0.049 0.032 -0.552 1.804\n"
     ]
    }
   ],
   "source": [
    "data_folder='../results/binned_norm_counts/'\n",
    "Samples = [f'PRO_SEQ_CT{4*i:02d}_S{i+1}_R1_001' for i in range(12)]\n",
    "Strands = ['forward','reverse']\n",
    "bin_size = 100\n",
    "T = np.arange(0,48,4)\n",
    "\n",
    "# awk '$3==\"gene\"' resources/genome/GRCm39/gencode.vM33.primary_assembly.annotation.gtf | grep \"^chr\" > resources/genome/GRCm39/gene.gtf\n",
    "gtf = pd.read_csv('../resources/genome/GRCm39/gene.gtf',sep='\\t',header=None)\n",
    "gtf.columns = ['chr','source','type','start','end','score','strand','frame','attribute']\n",
    "gtf['gene_name'] = gtf.attribute.str.extract(r'gene_name \"(.*?)\";')\n",
    "\n",
    "f = {}\n",
    "for sample in Samples:\n",
    "    t = int(sample.split('_')[2][2:])\n",
    "    f[t] = {}\n",
    "    for strand in Strands:\n",
    "        if strand=='forward':\n",
    "            f[t]['+'] = bw.open(f\"{data_folder}/{sample}/NormCoverage_3p_{strand}_bin{bin_size}bp.bw\")\n",
    "        elif strand=='reverse':\n",
    "            f[t]['-'] = bw.open(f\"{data_folder}/{sample}/NormCoverage_3p_{strand}_bin{bin_size}bp.bw\")\n",
    "\n",
    "for gene in ['Clock','Per2','Myc','Gapdh']:\n",
    "    print(gene)\n",
    "\n",
    "    coord = gtf.loc[gtf.gene_name==gene,['chr','start','end','strand']]\n",
    "    chr = coord.chr.values[0]\n",
    "    start = coord.start.values[0]\n",
    "    end = coord.end.values[0]\n",
    "    strand = coord.strand.values[0]\n",
    "\n",
    "    Bins = np.arange(start - start%bin_size,end + bin_size - end%bin_size,bin_size)\n",
    "\n",
    "    print(gene,chr,start,end,strand)\n",
    "\n",
    "    pm_lfc = np.log2(np.mean( [i[2] for i in f[t]['+'].intervals(chr,start,end)] ) / np.mean( [i[2] for i in f[t]['-'].intervals(chr,start,end)] ))\n",
    "    print(pm_lfc)\n",
    "\n",
    "    for strand in ['+','-']:\n",
    "        X = np.zeros((len(Bins),len(T)))\n",
    "        X[:] = np.nan\n",
    "        df = pd.DataFrame(X,index=Bins,columns=T)\n",
    "\n",
    "        for t in T:\n",
    "            vals = f[t][strand].intervals(chr,start,end)\n",
    "            bins = [vals[i][0] for i in range(len(vals))]\n",
    "            counts = [vals[i][2] for i in range(len(vals))]\n",
    "            df.loc[bins,t] = counts\n",
    "\n",
    "        idx_out = np.isnan(df.values).all(1)\n",
    "        df = df.loc[~idx_out,:]\n",
    "        df[np.isnan(df.values)] = 0\n",
    "\n",
    "        X = df.values\n",
    "        w = X.sum(1)\n",
    "        w = w/w.sum()\n",
    "\n",
    "        # fourier transform\n",
    "        for n in range(1,2):\n",
    "            f_n = np.sum(X*np.exp(-1j*2*n*np.pi*T/24),1)\n",
    "            a_n = np.abs(f_n)\n",
    "            phi_n = np.angle(f_n)\n",
    "\n",
    "            w_f = np.mean(f_n*w)\n",
    "            std_a = np.sqrt(np.sum(w*(a_n-w_a)**2))\n",
    "            std_phi = np.sqrt(np.sum(w*(phi_n-w_phi)**2))\n",
    "        \n",
    "            print(n,np.round(w_a,3),np.round(std_a,3),np.round(w_phi,3),np.round(std_phi,3))\n",
    "\n"
   ]
  },
  {
   "cell_type": "code",
   "execution_count": 64,
   "metadata": {},
   "outputs": [],
   "source": [
    "gene = 'Per2'"
   ]
  }
 ],
 "metadata": {
  "kernelspec": {
   "display_name": "work_env",
   "language": "python",
   "name": "python3"
  },
  "language_info": {
   "codemirror_mode": {
    "name": "ipython",
    "version": 3
   },
   "file_extension": ".py",
   "mimetype": "text/x-python",
   "name": "python",
   "nbconvert_exporter": "python",
   "pygments_lexer": "ipython3",
   "version": "3.11.4"
  },
  "orig_nbformat": 4
 },
 "nbformat": 4,
 "nbformat_minor": 2
}
