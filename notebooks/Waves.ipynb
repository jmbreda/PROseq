{
 "cells": [
  {
   "cell_type": "code",
   "execution_count": null,
   "metadata": {},
   "outputs": [],
   "source": [
    "import numpy as np\n",
    "import pandas as pd\n",
    "import matplotlib.pyplot as plt\n",
    "import pyBigWig as bw"
   ]
  },
  {
   "cell_type": "code",
   "execution_count": 1,
   "metadata": {},
   "outputs": [
    {
     "name": "stdout",
     "output_type": "stream",
     "text": [
      "Samples: ['PRO_SEQ_CT00_S1_R1_001', 'PRO_SEQ_CT04_S2_R1_001', 'PRO_SEQ_CT08_S3_R1_001', 'PRO_SEQ_CT12_S4_R1_001', 'PRO_SEQ_CT16_S5_R1_001', 'PRO_SEQ_CT20_S6_R1_001', 'PRO_SEQ_CT24_S7_R1_001', 'PRO_SEQ_CT28_S8_R1_001', 'PRO_SEQ_CT32_S9_R1_001', 'PRO_SEQ_CT36_S10_R1_001', 'PRO_SEQ_CT40_S11_R1_001', 'PRO_SEQ_CT44_S12_R1_001']\n"
     ]
    }
   ],
   "source": [
    "data_folder='../results/binned_norm_counts/'\n",
    "Samples = [f'PRO_SEQ_CT{4*i:02d}_S{i+1}_R1_001' for i in range(12)]\n",
    "Strands = ['forward','reverse']\n",
    "\n",
    "for sample in Samples:\n",
    "    for strand in Strands:\n",
    "        \n"
   ]
  }
 ],
 "metadata": {
  "kernelspec": {
   "display_name": "work_env",
   "language": "python",
   "name": "python3"
  },
  "language_info": {
   "codemirror_mode": {
    "name": "ipython",
    "version": 3
   },
   "file_extension": ".py",
   "mimetype": "text/x-python",
   "name": "python",
   "nbconvert_exporter": "python",
   "pygments_lexer": "ipython3",
   "version": "3.11.4"
  },
  "orig_nbformat": 4
 },
 "nbformat": 4,
 "nbformat_minor": 2
}
